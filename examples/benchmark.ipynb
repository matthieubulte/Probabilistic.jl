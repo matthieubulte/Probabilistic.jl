{
 "cells": [
  {
   "cell_type": "code",
   "execution_count": 1,
   "metadata": {
    "collapsed": true
   },
   "outputs": [],
   "source": [
    "ENV[\"JULIA_REVISE\"] = \"manual\" \n",
    "using Revise\n",
    "using Probabilistic\n",
    "using BenchmarkTools"
   ]
  },
  {
   "cell_type": "code",
   "execution_count": 10,
   "metadata": {},
   "outputs": [],
   "source": [
    "revise()"
   ]
  },
  {
   "cell_type": "code",
   "execution_count": 12,
   "metadata": {},
   "outputs": [
    {
     "data": {
      "text/plain": [
       "BenchmarkTools.Trial: \n",
       "  memory estimate:  5.80 MiB\n",
       "  allocs estimate:  211434\n",
       "  --------------\n",
       "  minimum time:     144.028 ms (0.00% GC)\n",
       "  median time:      145.503 ms (0.00% GC)\n",
       "  mean time:        147.298 ms (1.12% GC)\n",
       "  maximum time:     154.857 ms (4.00% GC)\n",
       "  --------------\n",
       "  samples:          34\n",
       "  evals/sample:     1"
      ]
     },
     "execution_count": 12,
     "metadata": {},
     "output_type": "execute_result"
    }
   ],
   "source": [
    "brownian = @model N begin\n",
    "    σ ~ Beta(2, 3)\n",
    "    x = zeros(N)\n",
    "    for i = 2:N\n",
    "       x[i] ~ Normal(x[i-1], σ^2)\n",
    "    end\n",
    "end\n",
    "\n",
    "N = 20\n",
    "X = cumsum((0.75^2)*randn(N))\n",
    "\n",
    "@benchmark sample(brownian(N) |> condition(:x => X) |> observe(:σ), Metropolis(1_000))"
   ]
  },
  {
   "cell_type": "code",
   "execution_count": 9,
   "metadata": {},
   "outputs": [
    {
     "data": {
      "text/plain": [
       "BenchmarkTools.Trial: \n",
       "  memory estimate:  28.71 MiB\n",
       "  allocs estimate:  958073\n",
       "  --------------\n",
       "  minimum time:     433.412 ms (1.34% GC)\n",
       "  median time:      442.215 ms (1.39% GC)\n",
       "  mean time:        442.403 ms (1.73% GC)\n",
       "  maximum time:     451.291 ms (2.62% GC)\n",
       "  --------------\n",
       "  samples:          12\n",
       "  evals/sample:     1"
      ]
     },
     "execution_count": 9,
     "metadata": {},
     "output_type": "execute_result"
    }
   ],
   "source": [
    "mix = @model N begin\n",
    "    prob ~ Beta(2, 2)\n",
    "\n",
    "    mean0 ~ Normal(-1,1)\n",
    "    mean1 ~ Normal(1,1)\n",
    "\n",
    "    x = zeros(N)\n",
    "    for i = 1:N\n",
    "        x[i] ~ BiMix(prob, Normal(mean0, 0.2), Normal(mean1, 0.2))\n",
    "    end\n",
    "end\n",
    "\n",
    "obs = [-1.7, -1.8, -2.01, -2.4, 1.9, 1.8]\n",
    "N = length(obs)\n",
    "\n",
    "@benchmark sample(mix(N) |> condition(:x => obs) |> observe(:mean0, :mean1), Metropolis(10_000))"
   ]
  }
 ],
 "metadata": {
  "kernelspec": {
   "display_name": "Julia 0.6.0",
   "language": "julia",
   "name": "julia-0.6"
  },
  "language_info": {
   "file_extension": ".jl",
   "mimetype": "application/julia",
   "name": "julia",
   "version": "0.6.0"
  }
 },
 "nbformat": 4,
 "nbformat_minor": 2
}
