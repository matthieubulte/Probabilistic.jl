{
 "cells": [
  {
   "cell_type": "code",
   "execution_count": 1,
   "metadata": {
    "collapsed": true
   },
   "outputs": [],
   "source": [
    "ENV[\"JULIA_REVISE\"] = \"manual\" \n",
    "using Revise\n",
    "using Probabilistic\n",
    "using BenchmarkTools"
   ]
  },
  {
   "cell_type": "code",
   "execution_count": 2,
   "metadata": {},
   "outputs": [],
   "source": [
    "revise()"
   ]
  },
  {
   "cell_type": "code",
   "execution_count": 3,
   "metadata": {},
   "outputs": [
    {
     "data": {
      "text/plain": [
       "BenchmarkTools.Trial: \n",
       "  memory estimate:  8.50 MiB\n",
       "  allocs estimate:  247384\n",
       "  --------------\n",
       "  minimum time:     229.142 ms (0.00% GC)\n",
       "  median time:      235.948 ms (0.00% GC)\n",
       "  mean time:        236.313 ms (0.75% GC)\n",
       "  maximum time:     265.467 ms (0.00% GC)\n",
       "  --------------\n",
       "  samples:          22\n",
       "  evals/sample:     1"
      ]
     },
     "execution_count": 3,
     "metadata": {},
     "output_type": "execute_result"
    }
   ],
   "source": [
    "brownian = @model N begin\n",
    "    σ ~ Beta(2, 3)\n",
    "    x = zeros(N)\n",
    "    for i = 2:N\n",
    "       x[i] ~ Normal(x[i-1], σ^2)\n",
    "    end\n",
    "end\n",
    "\n",
    "N = 20\n",
    "X = cumsum((0.75^2)*randn(N))\n",
    "\n",
    "@benchmark sample(brownian(N) |> condition(:x => X) |> observe(:σ), Metropolis(1_000))"
   ]
  },
  {
   "cell_type": "code",
   "execution_count": 4,
   "metadata": {},
   "outputs": [
    {
     "data": {
      "text/plain": [
       "BenchmarkTools.Trial: \n",
       "  memory estimate:  40.46 MiB\n",
       "  allocs estimate:  1129603\n",
       "  --------------\n",
       "  minimum time:     825.292 ms (0.60% GC)\n",
       "  median time:      830.404 ms (1.19% GC)\n",
       "  mean time:        852.235 ms (1.06% GC)\n",
       "  maximum time:     923.151 ms (1.08% GC)\n",
       "  --------------\n",
       "  samples:          6\n",
       "  evals/sample:     1"
      ]
     },
     "execution_count": 4,
     "metadata": {},
     "output_type": "execute_result"
    }
   ],
   "source": [
    "mix = @model N begin\n",
    "    prob ~ Beta(2, 2)\n",
    "\n",
    "    mean0 ~ Normal(-1,1)\n",
    "    mean1 ~ Normal(1,1)\n",
    "\n",
    "    x = zeros(N)\n",
    "    for i = 1:N\n",
    "        x[i] ~ BiMix(prob, Normal(mean0, 0.2), Normal(mean1, 0.2))\n",
    "    end\n",
    "end\n",
    "\n",
    "obs = [-1.7, -1.8, -2.01, -2.4, 1.9, 1.8]\n",
    "N = length(obs)\n",
    "\n",
    "@benchmark sample(mix(N) |> condition(:x => obs) |> observe(:mean0, :mean1), Metropolis(10_000))"
   ]
  }
 ],
 "metadata": {
  "kernelspec": {
   "display_name": "Julia 0.6.0",
   "language": "julia",
   "name": "julia-0.6"
  },
  "language_info": {
   "file_extension": ".jl",
   "mimetype": "application/julia",
   "name": "julia",
   "version": "0.6.0"
  }
 },
 "nbformat": 4,
 "nbformat_minor": 2
}
